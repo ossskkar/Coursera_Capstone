{
 "cells": [
  {
   "cell_type": "markdown",
   "metadata": {},
   "source": [
    "<h2 align=center><font size = 4>IBM Data Science Capstone - Final Project</font></h2>\n",
    "<h1 align=center><font size = 5>Market Perception of Major Banks in New York</font></h1>"
   ]
  },
  {
   "attachments": {},
   "cell_type": "markdown",
   "metadata": {},
   "source": [
    "## Introduction\n",
    "\n",
    "Retail banking remains a highly competitive business, with banks aiming to gain any edge on the competition. Although several services are conducted online, many other services are provided to customers at office branches. \n",
    "\n",
    "The perception of customers towards their bank is highly important in assessing the performance of banks around cities where they operate in order to plan future improvements. \n",
    "\n",
    "We propose a project to gain insights in the market perception of major banks in New York by performing a sentiment analysis on the text feedback provided by customers visiting various banks of this branch.\n"
   ]
  },
  {
   "cell_type": "markdown",
   "metadata": {},
   "source": [
    "## Import necessary libraries"
   ]
  },
  {
   "cell_type": "code",
   "execution_count": 92,
   "metadata": {},
   "outputs": [],
   "source": [
    "# Load packages\n",
    "import configparser\n",
    "import folium\n",
    "import matplotlib\n",
    "import matplotlib.cm     as cm\n",
    "import matplotlib.colors as colors\n",
    "import matplotlib.pyplot as plt\n",
    "import nltk\n",
    "import numpy             as np\n",
    "import pandas            as pd\n",
    "import re\n",
    "import requests\n",
    "import seaborn           as sns\n",
    "import string\n",
    "\n",
    "from geopy.geocoders   import Nominatim \n",
    "from matplotlib.ticker import MaxNLocator\n",
    "from nltk.corpus       import stopwords\n",
    "from nltk.tokenize     import word_tokenize\n",
    "from sklearn.cluster   import KMeans\n",
    "from textblob          import TextBlob\n",
    "from typing            import List, Set, Dict, Tuple, Optional\n",
    "\n",
    "pd.set_option('display.max_columns', None)\n",
    "pd.set_option('display.max_rows', None)\n",
    "\n",
    "sns.set()\n",
    "\n",
    "#nltk.download('punkt')\n",
    "stop_words = set(stopwords.words('english'))\n"
   ]
  },
  {
   "cell_type": "markdown",
   "metadata": {},
   "source": [
    "## FourSquare API Configuration\n",
    "\n",
    "A class is defined to manage FourSquare API credentials and parameters"
   ]
  },
  {
   "cell_type": "code",
   "execution_count": 2,
   "metadata": {},
   "outputs": [],
   "source": [
    "class FourSquareConfig:\n",
    "    \n",
    "    def __init__(self, config_file: str):\n",
    "        # FourSquare Credentials\n",
    "        config = configparser.RawConfigParser()\n",
    "        config.read(config_file)\n",
    "        credentials = dict(config.items('FOURSQUARE'))\n",
    "\n",
    "        # Foursquare Configuration\n",
    "        self.CLIENT_ID = credentials['client_id']\n",
    "        self.CLIENT_SECRET = credentials['client_secret']\n",
    "        self.VERSION = '20180605' # Foursquare API version\n",
    "        self.LIMIT = 100000 # A default Foursquare API limit value\n",
    "        \n",
    "fsc = FourSquareConfig('4square.cfg')"
   ]
  },
  {
   "cell_type": "markdown",
   "metadata": {},
   "source": [
    "## Bank Data\n",
    "\n",
    "We start by collecting and storing the venues under the category 'Bank'."
   ]
  },
  {
   "cell_type": "code",
   "execution_count": 3,
   "metadata": {
    "scrolled": false
   },
   "outputs": [
    {
     "name": "stdout",
     "output_type": "stream",
     "text": [
      "Number of rows:  50\n"
     ]
    },
    {
     "data": {
      "text/html": [
       "<div>\n",
       "<style scoped>\n",
       "    .dataframe tbody tr th:only-of-type {\n",
       "        vertical-align: middle;\n",
       "    }\n",
       "\n",
       "    .dataframe tbody tr th {\n",
       "        vertical-align: top;\n",
       "    }\n",
       "\n",
       "    .dataframe thead th {\n",
       "        text-align: right;\n",
       "    }\n",
       "</style>\n",
       "<table border=\"1\" class=\"dataframe\">\n",
       "  <thead>\n",
       "    <tr style=\"text-align: right;\">\n",
       "      <th></th>\n",
       "      <th>id</th>\n",
       "      <th>name</th>\n",
       "      <th>distance</th>\n",
       "      <th>lat</th>\n",
       "      <th>lng</th>\n",
       "    </tr>\n",
       "  </thead>\n",
       "  <tbody>\n",
       "    <tr>\n",
       "      <th>0</th>\n",
       "      <td>543baecf498ea44ee2c1a5da</td>\n",
       "      <td>TD Bank</td>\n",
       "      <td>556</td>\n",
       "      <td>40.707852</td>\n",
       "      <td>-74.004576</td>\n",
       "    </tr>\n",
       "    <tr>\n",
       "      <th>1</th>\n",
       "      <td>5022b54ce4b04ac74d74c5ac</td>\n",
       "      <td>TD Bank</td>\n",
       "      <td>14361</td>\n",
       "      <td>40.680440</td>\n",
       "      <td>-73.841264</td>\n",
       "    </tr>\n",
       "    <tr>\n",
       "      <th>2</th>\n",
       "      <td>51098c83f470bb33c867c0e5</td>\n",
       "      <td>Citigroup Global Headquarters</td>\n",
       "      <td>977</td>\n",
       "      <td>40.720608</td>\n",
       "      <td>-74.011116</td>\n",
       "    </tr>\n",
       "    <tr>\n",
       "      <th>3</th>\n",
       "      <td>4e6ac8f145ddadf2d0a36ad4</td>\n",
       "      <td>Castle Check Cashing</td>\n",
       "      <td>14428</td>\n",
       "      <td>40.833709</td>\n",
       "      <td>-73.944593</td>\n",
       "    </tr>\n",
       "    <tr>\n",
       "      <th>4</th>\n",
       "      <td>4d2cfb67aa5c6ea8627da904</td>\n",
       "      <td>I Love Lucy's</td>\n",
       "      <td>21986</td>\n",
       "      <td>40.884826</td>\n",
       "      <td>-73.877998</td>\n",
       "    </tr>\n",
       "  </tbody>\n",
       "</table>\n",
       "</div>"
      ],
      "text/plain": [
       "                         id                           name  distance  \\\n",
       "0  543baecf498ea44ee2c1a5da                        TD Bank       556   \n",
       "1  5022b54ce4b04ac74d74c5ac                        TD Bank     14361   \n",
       "2  51098c83f470bb33c867c0e5  Citigroup Global Headquarters       977   \n",
       "3  4e6ac8f145ddadf2d0a36ad4           Castle Check Cashing     14428   \n",
       "4  4d2cfb67aa5c6ea8627da904                  I Love Lucy's     21986   \n",
       "\n",
       "         lat        lng  \n",
       "0  40.707852 -74.004576  \n",
       "1  40.680440 -73.841264  \n",
       "2  40.720608 -74.011116  \n",
       "3  40.833709 -73.944593  \n",
       "4  40.884826 -73.877998  "
      ]
     },
     "execution_count": 3,
     "metadata": {},
     "output_type": "execute_result"
    }
   ],
   "source": [
    "def get_location(address: str):\n",
    "    geolocator = Nominatim(user_agent=\"foursquare_agent\")\n",
    "    location = geolocator.geocode(address)\n",
    "    return location.latitude, location.longitude\n",
    "\n",
    "\n",
    "def parse_venues(response: Dict):\n",
    "    \n",
    "    # Check if is a valid response\n",
    "    if 'response' not in response.keys():\n",
    "        return None\n",
    "    \n",
    "    # Check if any venues in response\n",
    "    if 'venues' not in response['response'].keys():\n",
    "        return None\n",
    "    \n",
    "    # For each venue in response\n",
    "    data = pd.DataFrame()\n",
    "    for venue in response['response']['venues']:\n",
    "        \n",
    "        # Parse venue\n",
    "        new_data = pd.DataFrame({'id': venue['id'], 'name': venue['name'], \n",
    "                                 'distance': venue['location']['distance'],\n",
    "                                 'lat': venue['location']['lat'], \n",
    "                                 'lng': venue['location']['lng']}, index=[0])\n",
    "        \n",
    "        # Add venue\n",
    "        data = pd.concat([data, new_data])\n",
    "        \n",
    "        # Clean data\n",
    "        data['name'] = data['name'].str.replace(',', ' ')\n",
    "\n",
    "    return data.reset_index(drop=True)\n",
    "\n",
    "\n",
    "def fs_query_venues_by_category(categoryId: str, address: str, radius: int):\n",
    "\n",
    "    # Get address location\n",
    "    lat, lng = get_location(address)\n",
    "\n",
    "    # Make request URL\n",
    "    base_url = 'https://api.foursquare.com/v2/venues/search?'\n",
    "    params   = f'client_id={fsc.CLIENT_ID}&client_secret={fsc.CLIENT_SECRET}&ll={lat},{lng}&v={fsc.VERSION}&categoryId={categoryId}&radius={radius}&limit={fsc.LIMIT}'\n",
    "    url      = base_url+params\n",
    "    \n",
    "    # Execute request\n",
    "    response = requests.get(url).json()\n",
    "    \n",
    "    # Return venues as a pandas dataframe\n",
    "    return parse_venues(response)\n",
    "\n",
    "\n",
    "# Request parameters    \n",
    "address    = 'New York City, NY'\n",
    "radius     = 30000 \n",
    "categoryId = '4bf58dd8d48988d10a951735' # Category = Banks\n",
    "\n",
    "# Make request\n",
    "#bank = fs_query_venues_by_category(categoryId, address, radius)\n",
    "bank = pd.read_csv('ny_banks.csv')\n",
    "\n",
    "# Sample data\n",
    "print('Number of rows: ', bank.shape[0])\n",
    "bank.head()"
   ]
  },
  {
   "cell_type": "markdown",
   "metadata": {},
   "source": [
    "We visualize the venue count by Bank"
   ]
  },
  {
   "cell_type": "code",
   "execution_count": 4,
   "metadata": {},
   "outputs": [
    {
     "data": {
      "image/png": "[encoded data removed]",
      "text/plain": [
       "<Figure size 720x360 with 1 Axes>"
      ]
     },
     "metadata": {},
     "output_type": "display_data"
    }
   ],
   "source": [
    "# Compute banks summary\n",
    "bank_summary = pd.DataFrame(bank['name'].value_counts()).reset_index()\n",
    "mask = bank_summary['name']<=1\n",
    "bank_summary.loc[mask, 'index'] = 'Others'\n",
    "bank_summary.rename(columns={'index': 'name', 'name': 'count'}, inplace=True)\n",
    "bank_summary = bank_summary.groupby(['name']).sum().reset_index()\n",
    "bank_summary.sort_values(by='count', inplace=True)\n",
    "\n",
    "# Plot banks summary\n",
    "ax = bank_summary.plot.barh(x='name', y='count', figsize=(10,5), alpha=0.8)\n",
    "ax.set_ylabel('')\n",
    "ax.set_xlabel('Venue Count', fontsize=15)\n",
    "ax.legend('')\n",
    "ax.set_title('Venue Count by Banks', fontsize=25)\n",
    "ax.xaxis.set_major_locator(MaxNLocator(integer=True))\n",
    "plt.show()\n"
   ]
  },
  {
   "cell_type": "markdown",
   "metadata": {},
   "source": [
    "Finally, we add a column to indicate the bank to which each venue belongs to, and save the data"
   ]
  },
  {
   "cell_type": "code",
   "execution_count": 5,
   "metadata": {},
   "outputs": [
    {
     "data": {
      "text/html": [
       "<div>\n",
       "<style scoped>\n",
       "    .dataframe tbody tr th:only-of-type {\n",
       "        vertical-align: middle;\n",
       "    }\n",
       "\n",
       "    .dataframe tbody tr th {\n",
       "        vertical-align: top;\n",
       "    }\n",
       "\n",
       "    .dataframe thead th {\n",
       "        text-align: right;\n",
       "    }\n",
       "</style>\n",
       "<table border=\"1\" class=\"dataframe\">\n",
       "  <thead>\n",
       "    <tr style=\"text-align: right;\">\n",
       "      <th></th>\n",
       "      <th>id</th>\n",
       "      <th>name</th>\n",
       "      <th>distance</th>\n",
       "      <th>lat</th>\n",
       "      <th>lng</th>\n",
       "      <th>bank</th>\n",
       "    </tr>\n",
       "  </thead>\n",
       "  <tbody>\n",
       "    <tr>\n",
       "      <th>0</th>\n",
       "      <td>543baecf498ea44ee2c1a5da</td>\n",
       "      <td>TD Bank</td>\n",
       "      <td>556</td>\n",
       "      <td>40.707852</td>\n",
       "      <td>-74.004576</td>\n",
       "      <td>TD Bank</td>\n",
       "    </tr>\n",
       "    <tr>\n",
       "      <th>1</th>\n",
       "      <td>5022b54ce4b04ac74d74c5ac</td>\n",
       "      <td>TD Bank</td>\n",
       "      <td>14361</td>\n",
       "      <td>40.680440</td>\n",
       "      <td>-73.841264</td>\n",
       "      <td>TD Bank</td>\n",
       "    </tr>\n",
       "    <tr>\n",
       "      <th>2</th>\n",
       "      <td>51098c83f470bb33c867c0e5</td>\n",
       "      <td>Citigroup Global Headquarters</td>\n",
       "      <td>977</td>\n",
       "      <td>40.720608</td>\n",
       "      <td>-74.011116</td>\n",
       "      <td>Others</td>\n",
       "    </tr>\n",
       "    <tr>\n",
       "      <th>3</th>\n",
       "      <td>4e6ac8f145ddadf2d0a36ad4</td>\n",
       "      <td>Castle Check Cashing</td>\n",
       "      <td>14428</td>\n",
       "      <td>40.833709</td>\n",
       "      <td>-73.944593</td>\n",
       "      <td>Others</td>\n",
       "    </tr>\n",
       "    <tr>\n",
       "      <th>4</th>\n",
       "      <td>4d2cfb67aa5c6ea8627da904</td>\n",
       "      <td>I Love Lucy's</td>\n",
       "      <td>21986</td>\n",
       "      <td>40.884826</td>\n",
       "      <td>-73.877998</td>\n",
       "      <td>Others</td>\n",
       "    </tr>\n",
       "  </tbody>\n",
       "</table>\n",
       "</div>"
      ],
      "text/plain": [
       "                         id                           name  distance  \\\n",
       "0  543baecf498ea44ee2c1a5da                        TD Bank       556   \n",
       "1  5022b54ce4b04ac74d74c5ac                        TD Bank     14361   \n",
       "2  51098c83f470bb33c867c0e5  Citigroup Global Headquarters       977   \n",
       "3  4e6ac8f145ddadf2d0a36ad4           Castle Check Cashing     14428   \n",
       "4  4d2cfb67aa5c6ea8627da904                  I Love Lucy's     21986   \n",
       "\n",
       "         lat        lng     bank  \n",
       "0  40.707852 -74.004576  TD Bank  \n",
       "1  40.680440 -73.841264  TD Bank  \n",
       "2  40.720608 -74.011116   Others  \n",
       "3  40.833709 -73.944593   Others  \n",
       "4  40.884826 -73.877998   Others  "
      ]
     },
     "execution_count": 5,
     "metadata": {},
     "output_type": "execute_result"
    }
   ],
   "source": [
    "# Add bank name column based on summary\n",
    "mask = bank['name'].isin(bank_summary['name'].tolist())\n",
    "bank.loc[~mask,'bank'] = 'Others'\n",
    "bank.loc[mask,'bank'] = bank['name']\n",
    "\n",
    "# Save data\n",
    "bank.to_csv('ny_banks.csv', index=False)\n",
    "\n",
    "# Sample data\n",
    "bank.head()"
   ]
  },
  {
   "cell_type": "markdown",
   "metadata": {},
   "source": [
    "We conclude this section by ploting the venues on a map"
   ]
  },
  {
   "cell_type": "code",
   "execution_count": 197,
   "metadata": {},
   "outputs": [
    {
     "data": {
      "text/html": [
       "<div style=\"width:100%;\"><div style=\"position:relative;width:100%;height:0;padding-bottom:60%;\"><span style=\"color:#565656\">Make this Notebook Trusted to load map: File -> Trust Notebook</span><iframe src=\"about:blank\" style=\"position:absolute;width:100%;height:100%;left:0;top:0;border:none !important;\" data-html=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 onload=\"this.contentDocument.open();this.contentDocument.write(atob(this.getAttribute('data-html')));this.contentDocument.close();\" allowfullscreen webkitallowfullscreen mozallowfullscreen></iframe></div></div>"
      ],
      "text/plain": [
       "<folium.folium.Map at 0x7f97af553350>"
      ]
     },
     "execution_count": 197,
     "metadata": {},
     "output_type": "execute_result"
    }
   ],
   "source": [
    "# Assign color to each bank\n",
    "colors = {'TD Bank': 'blue', 'Others': 'gray', 'PNC Bank': 'red', 'Chase Bank': 'green',\n",
    "          'Bank of America': 'yellow', 'Citibank': 'orange', 'Capital One Bank': 'brown'} \n",
    "\n",
    "# Get address location\n",
    "lat, lng = get_location(address)\n",
    "\n",
    "venues_map = folium.Map(location=[lat, lng], zoom_start=10)\n",
    "\n",
    "for _, row in bank.iterrows():\n",
    "    folium.CircleMarker(\n",
    "        [row['lat'], row['lng']],\n",
    "        radius=8,\n",
    "        popup=row['bank'],\n",
    "        fill=True,\n",
    "        color=colors[row['bank']],\n",
    "        fill_color=colors[row['bank']],\n",
    "        fill_opacity=0.8\n",
    "        ).add_to(venues_map)\n",
    "\n",
    "# display map\n",
    "venues_map"
   ]
  },
  {
   "cell_type": "markdown",
   "metadata": {},
   "source": [
    "## Tips Data\n",
    "\n",
    "For the banks previously retrieved, we collect the available tips."
   ]
  },
  {
   "cell_type": "code",
   "execution_count": 6,
   "metadata": {},
   "outputs": [
    {
     "data": {
      "text/html": [
       "<div>\n",
       "<style scoped>\n",
       "    .dataframe tbody tr th:only-of-type {\n",
       "        vertical-align: middle;\n",
       "    }\n",
       "\n",
       "    .dataframe tbody tr th {\n",
       "        vertical-align: top;\n",
       "    }\n",
       "\n",
       "    .dataframe thead th {\n",
       "        text-align: right;\n",
       "    }\n",
       "</style>\n",
       "<table border=\"1\" class=\"dataframe\">\n",
       "  <thead>\n",
       "    <tr style=\"text-align: right;\">\n",
       "      <th></th>\n",
       "      <th>venueId</th>\n",
       "      <th>id</th>\n",
       "      <th>createdAt</th>\n",
       "      <th>text</th>\n",
       "      <th>lang</th>\n",
       "      <th>bank</th>\n",
       "    </tr>\n",
       "  </thead>\n",
       "  <tbody>\n",
       "    <tr>\n",
       "      <th>0</th>\n",
       "      <td>5022b54ce4b04ac74d74c5ac</td>\n",
       "      <td>520a798511d257e4ee57bf4c</td>\n",
       "      <td>1.376418e+09</td>\n",
       "      <td>Coming for their coin counting service? Don't ...</td>\n",
       "      <td>en</td>\n",
       "      <td>TD Bank</td>\n",
       "    </tr>\n",
       "    <tr>\n",
       "      <th>1</th>\n",
       "      <td>51098c83f470bb33c867c0e5</td>\n",
       "      <td>54c1f49e498e6e802d9b4ad2</td>\n",
       "      <td>1.421997e+09</td>\n",
       "      <td>For healthy snacks hit the green grocer cart o...</td>\n",
       "      <td>en</td>\n",
       "      <td>Others</td>\n",
       "    </tr>\n",
       "    <tr>\n",
       "      <th>2</th>\n",
       "      <td>4c6ae00aa48420a1d2b5080b</td>\n",
       "      <td>58898f5f9435a95cbdc4c4dd</td>\n",
       "      <td>1.485410e+09</td>\n",
       "      <td>My family has used this bank for over 2 decade...</td>\n",
       "      <td>en</td>\n",
       "      <td>Others</td>\n",
       "    </tr>\n",
       "    <tr>\n",
       "      <th>3</th>\n",
       "      <td>4c0ea0d37189c92876cfd8b6</td>\n",
       "      <td>51b0d4d8498e1772912f8b03</td>\n",
       "      <td>1.370543e+09</td>\n",
       "      <td>Nice &amp; quiet. Little or no lines at all!!</td>\n",
       "      <td>en</td>\n",
       "      <td>Bank of America</td>\n",
       "    </tr>\n",
       "    <tr>\n",
       "      <th>4</th>\n",
       "      <td>4b8ea09ff964a520e22c33e3</td>\n",
       "      <td>4e25a49d18388c58be2df369</td>\n",
       "      <td>1.311090e+09</td>\n",
       "      <td>They are always courteous &amp; efficient.</td>\n",
       "      <td>en</td>\n",
       "      <td>Chase Bank</td>\n",
       "    </tr>\n",
       "  </tbody>\n",
       "</table>\n",
       "</div>"
      ],
      "text/plain": [
       "                    venueId                        id     createdAt  \\\n",
       "0  5022b54ce4b04ac74d74c5ac  520a798511d257e4ee57bf4c  1.376418e+09   \n",
       "1  51098c83f470bb33c867c0e5  54c1f49e498e6e802d9b4ad2  1.421997e+09   \n",
       "2  4c6ae00aa48420a1d2b5080b  58898f5f9435a95cbdc4c4dd  1.485410e+09   \n",
       "3  4c0ea0d37189c92876cfd8b6  51b0d4d8498e1772912f8b03  1.370543e+09   \n",
       "4  4b8ea09ff964a520e22c33e3  4e25a49d18388c58be2df369  1.311090e+09   \n",
       "\n",
       "                                                text lang             bank  \n",
       "0  Coming for their coin counting service? Don't ...   en          TD Bank  \n",
       "1  For healthy snacks hit the green grocer cart o...   en           Others  \n",
       "2  My family has used this bank for over 2 decade...   en           Others  \n",
       "3          Nice & quiet. Little or no lines at all!!   en  Bank of America  \n",
       "4             They are always courteous & efficient.   en       Chase Bank  "
      ]
     },
     "execution_count": 6,
     "metadata": {},
     "output_type": "execute_result"
    }
   ],
   "source": [
    "def parse_tips(response: Dict):\n",
    "    \n",
    "    # Check if is a valid response\n",
    "    if 'response' not in response.keys():\n",
    "        return None\n",
    "    \n",
    "    # Check if any venues in response\n",
    "    if 'tips' not in response['response'].keys():\n",
    "        return None\n",
    "    \n",
    "    # For each venue in response\n",
    "    data = pd.DataFrame()\n",
    "    for tip in response['response']['tips']['items']:\n",
    "        \n",
    "        # Parse tip\n",
    "        new_data = pd.DataFrame({'id': tip['id'], 'createdAt': tip['createdAt'], \n",
    "                                  'text': tip['text'], 'lang': tip['lang']}, index=[0])\n",
    "        \n",
    "        # Add tip\n",
    "        data = pd.concat([data, new_data])\n",
    "        \n",
    "        # Clean data\n",
    "        data['text'] = data['text'].str.replace('\\\\', ' ')\n",
    "\n",
    "    return data.reset_index(drop=True)\n",
    "\n",
    "\n",
    "def fs_query_one_venue_tips(venueId: str):\n",
    "\n",
    "    # Get address location\n",
    "    lat, lng = get_location(address)\n",
    "\n",
    "    # Make request URL\n",
    "    base_url = f'https://api.foursquare.com/v2/venues/{venueId}/tips?'\n",
    "    params   = f'client_id={fsc.CLIENT_ID}&client_secret={fsc.CLIENT_SECRET}&v={fsc.VERSION}&limit={fsc.LIMIT}'\n",
    "    url      = base_url+params\n",
    "    \n",
    "    # Execute request\n",
    "    response = requests.get(url).json()\n",
    "    \n",
    "    # Return venues as a pandas dataframe\n",
    "    return parse_tips(response)\n",
    "\n",
    "def fs_query_all_venues_tips(venueIds: List[str]):\n",
    "    \n",
    "    # For each venue\n",
    "    data = pd.DataFrame()\n",
    "    for venueId in venueIds:\n",
    "        \n",
    "        # Get venue tips\n",
    "        new_data = fs_query_one_venue_tips(venueId)\n",
    "        if new_data is not None:\n",
    "            new_data['venueId'] = venueId\n",
    "        \n",
    "        # Add venue tips\n",
    "        data = pd.concat([data, new_data])\n",
    "        \n",
    "    return data.reset_index(drop=True)\n",
    "\n",
    "# Make request\n",
    "venueIds = bank['id'].tolist()\n",
    "#tips     = fs_query_all_venues_tips(venueIds)\n",
    "tips = pd.read_csv('ny_bank_tips.csv')\n",
    "\n",
    "# Sample data\n",
    "tips.head()"
   ]
  },
  {
   "cell_type": "markdown",
   "metadata": {},
   "source": [
    "Based on the venue id, we add the bank name to each tip"
   ]
  },
  {
   "cell_type": "code",
   "execution_count": 7,
   "metadata": {},
   "outputs": [
    {
     "data": {
      "text/html": [
       "<div>\n",
       "<style scoped>\n",
       "    .dataframe tbody tr th:only-of-type {\n",
       "        vertical-align: middle;\n",
       "    }\n",
       "\n",
       "    .dataframe tbody tr th {\n",
       "        vertical-align: top;\n",
       "    }\n",
       "\n",
       "    .dataframe thead th {\n",
       "        text-align: right;\n",
       "    }\n",
       "</style>\n",
       "<table border=\"1\" class=\"dataframe\">\n",
       "  <thead>\n",
       "    <tr style=\"text-align: right;\">\n",
       "      <th></th>\n",
       "      <th>venueId</th>\n",
       "      <th>id</th>\n",
       "      <th>createdAt</th>\n",
       "      <th>text</th>\n",
       "      <th>lang</th>\n",
       "      <th>bank</th>\n",
       "    </tr>\n",
       "  </thead>\n",
       "  <tbody>\n",
       "    <tr>\n",
       "      <th>0</th>\n",
       "      <td>5022b54ce4b04ac74d74c5ac</td>\n",
       "      <td>520a798511d257e4ee57bf4c</td>\n",
       "      <td>1.376418e+09</td>\n",
       "      <td>Coming for their coin counting service? Don't ...</td>\n",
       "      <td>en</td>\n",
       "      <td>TD Bank</td>\n",
       "    </tr>\n",
       "    <tr>\n",
       "      <th>1</th>\n",
       "      <td>51098c83f470bb33c867c0e5</td>\n",
       "      <td>54c1f49e498e6e802d9b4ad2</td>\n",
       "      <td>1.421997e+09</td>\n",
       "      <td>For healthy snacks hit the green grocer cart o...</td>\n",
       "      <td>en</td>\n",
       "      <td>Others</td>\n",
       "    </tr>\n",
       "    <tr>\n",
       "      <th>2</th>\n",
       "      <td>4c6ae00aa48420a1d2b5080b</td>\n",
       "      <td>58898f5f9435a95cbdc4c4dd</td>\n",
       "      <td>1.485410e+09</td>\n",
       "      <td>My family has used this bank for over 2 decade...</td>\n",
       "      <td>en</td>\n",
       "      <td>Others</td>\n",
       "    </tr>\n",
       "    <tr>\n",
       "      <th>3</th>\n",
       "      <td>4c0ea0d37189c92876cfd8b6</td>\n",
       "      <td>51b0d4d8498e1772912f8b03</td>\n",
       "      <td>1.370543e+09</td>\n",
       "      <td>Nice &amp; quiet. Little or no lines at all!!</td>\n",
       "      <td>en</td>\n",
       "      <td>Bank of America</td>\n",
       "    </tr>\n",
       "    <tr>\n",
       "      <th>4</th>\n",
       "      <td>4b8ea09ff964a520e22c33e3</td>\n",
       "      <td>4e25a49d18388c58be2df369</td>\n",
       "      <td>1.311090e+09</td>\n",
       "      <td>They are always courteous &amp; efficient.</td>\n",
       "      <td>en</td>\n",
       "      <td>Chase Bank</td>\n",
       "    </tr>\n",
       "  </tbody>\n",
       "</table>\n",
       "</div>"
      ],
      "text/plain": [
       "                    venueId                        id     createdAt  \\\n",
       "0  5022b54ce4b04ac74d74c5ac  520a798511d257e4ee57bf4c  1.376418e+09   \n",
       "1  51098c83f470bb33c867c0e5  54c1f49e498e6e802d9b4ad2  1.421997e+09   \n",
       "2  4c6ae00aa48420a1d2b5080b  58898f5f9435a95cbdc4c4dd  1.485410e+09   \n",
       "3  4c0ea0d37189c92876cfd8b6  51b0d4d8498e1772912f8b03  1.370543e+09   \n",
       "4  4b8ea09ff964a520e22c33e3  4e25a49d18388c58be2df369  1.311090e+09   \n",
       "\n",
       "                                                text lang             bank  \n",
       "0  Coming for their coin counting service? Don't ...   en          TD Bank  \n",
       "1  For healthy snacks hit the green grocer cart o...   en           Others  \n",
       "2  My family has used this bank for over 2 decade...   en           Others  \n",
       "3          Nice & quiet. Little or no lines at all!!   en  Bank of America  \n",
       "4             They are always courteous & efficient.   en       Chase Bank  "
      ]
     },
     "execution_count": 7,
     "metadata": {},
     "output_type": "execute_result"
    }
   ],
   "source": [
    "for index, row in tips.iterrows():\n",
    "    bank_name = bank.loc[bank['id'] == row['venueId'], 'bank'].values[0]\n",
    "    tips.loc[index, 'bank'] = bank_name\n",
    "\n",
    "tips.head()"
   ]
  },
  {
   "cell_type": "markdown",
   "metadata": {},
   "source": [
    "We visualize the tips count by bank"
   ]
  },
  {
   "cell_type": "code",
   "execution_count": 8,
   "metadata": {},
   "outputs": [
    {
     "data": {
      "image/png": "[encoded data removed]",
      "text/plain": [
       "<Figure size 720x360 with 1 Axes>"
      ]
     },
     "metadata": {},
     "output_type": "display_data"
    }
   ],
   "source": [
    "# Compute summary\n",
    "tips_summary = tips['bank'].value_counts().to_frame().reset_index()\n",
    "tips_summary.rename(columns={'index': 'bank', 'bank': 'count'}, inplace=True)\n",
    "tips_summary.sort_values(by='count', inplace=True)\n",
    "tips_summary\n",
    "\n",
    "# Plot tips summary\n",
    "ax = tips_summary.plot.barh(x='bank', y='count', figsize=(10,5), alpha=0.8)\n",
    "ax.set_ylabel('')\n",
    "ax.set_xlabel('Tips Count', fontsize=15)\n",
    "ax.legend('')\n",
    "ax.set_title('Tips Count by Banks', fontsize=25)\n",
    "ax.xaxis.set_major_locator(MaxNLocator(integer=True))\n",
    "plt.show()\n"
   ]
  },
  {
   "cell_type": "markdown",
   "metadata": {},
   "source": [
    "Finally, we store the tips data"
   ]
  },
  {
   "cell_type": "code",
   "execution_count": 9,
   "metadata": {},
   "outputs": [],
   "source": [
    "# Save data\n",
    "tips.to_csv('ny_bank_tips.csv', index=False)"
   ]
  },
  {
   "cell_type": "markdown",
   "metadata": {},
   "source": [
    "## Sentiment Analysis\n",
    "\n",
    "Using the data about banks and their corresponding tips, we conduct a sentiment analysis.\n",
    "\n",
    "First, we preprocess the text in tips data"
   ]
  },
  {
   "cell_type": "code",
   "execution_count": 10,
   "metadata": {
    "scrolled": false
   },
   "outputs": [
    {
     "name": "stdout",
     "output_type": "stream",
     "text": [
      "Before preprocessing:\n",
      " Coming for their coin counting service? Don't bother. Screen will say \"Penny isn't feeling well.\" Like EVERY time. I hate to break it to you, but after a year, Penny's dead.\n",
      "\n",
      "After preprocessing:\n",
      " coming coin counting service dont bother screen say penny isnt feeling well like every time hate break year pennys dead\n"
     ]
    }
   ],
   "source": [
    "def preprocess_text(text):\n",
    "    \n",
    "    # Set all text to lower case\n",
    "    text = text.lower()\n",
    "    \n",
    "    # Remove invalid characters\n",
    "    text = re.sub(r'\\@\\w+|\\#','', text)\n",
    "    \n",
    "    # Remove punctuations\n",
    "    text = text.translate(str.maketrans('', '', string.punctuation))\n",
    "    \n",
    "    # Remove stopwords\n",
    "    text_tokens = word_tokenize(text)\n",
    "    filtered_words = [w for w in text_tokens if not w in stop_words]\n",
    "    \n",
    "    return \" \".join(filtered_words)\n",
    "\n",
    "# Load data\n",
    "tips = pd.read_csv('ny_bank_tips.csv')\n",
    "\n",
    "# Use only tips in English language\n",
    "tips = tips[tips['lang'] == 'en']\n",
    "\n",
    "print('Before preprocessing:\\n', tips['text'].tolist()[0])\n",
    "\n",
    "# Preprocess text \n",
    "tips['text'] = tips['text'].apply(preprocess_text)\n",
    "\n",
    "print('\\nAfter preprocessing:\\n', tips['text'].tolist()[0])\n"
   ]
  },
  {
   "cell_type": "markdown",
   "metadata": {},
   "source": [
    "We proceed to compute a sentiment score using TextBlob. "
   ]
  },
  {
   "cell_type": "code",
   "execution_count": 138,
   "metadata": {},
   "outputs": [
    {
     "name": "stdout",
     "output_type": "stream",
     "text": [
      "Here is an example of the sentiment score on two tip's text:\n",
      "\n",
      "\n",
      "Text:  coming coin counting service dont bother screen say penny isnt feeling well like every time hate break year pennys dead \n",
      "\n",
      "Sentiment score:  -1 \n",
      "\n",
      "Text:  nice quiet little lines \n",
      "\n",
      "Sentiment score:  1\n"
     ]
    }
   ],
   "source": [
    "def analyze_sentiment(text):\n",
    "    analysis = TextBlob(text)\n",
    "\n",
    "    if analysis.sentiment.polarity > 0:\n",
    "        return 1\n",
    "    elif analysis.sentiment.polarity == 0:\n",
    "        return 0\n",
    "    else:\n",
    "        return -1\n",
    "    \n",
    "# Compute sentiment score \n",
    "tips['sentiment'] = tips['text'].apply(analyze_sentiment)\n",
    "\n",
    "# Sample result\n",
    "print('Here is an example of the sentiment score on two tip\\'s text:\\n\\n')\n",
    "print('Text: ', tips['text'].tolist()[0], '\\n')\n",
    "print('Sentiment score: ', tips['sentiment'].tolist()[0], '\\n')\n",
    "\n",
    "print('Text: ', tips['text'].tolist()[3], '\\n')\n",
    "print('Sentiment score: ', tips['sentiment'].tolist()[3])"
   ]
  },
  {
   "cell_type": "markdown",
   "metadata": {},
   "source": [
    "We visualize the mean sentiment score for each bank. This will be the market perception."
   ]
  },
  {
   "cell_type": "code",
   "execution_count": 195,
   "metadata": {},
   "outputs": [
    {
     "data": {
      "image/png": "[encoded data removed]",
      "text/plain": [
       "<Figure size 720x360 with 2 Axes>"
      ]
     },
     "metadata": {},
     "output_type": "display_data"
    }
   ],
   "source": [
    "# Compute sentiment summary\n",
    "sentiment_summary = tips.groupby(['bank']).agg({'sentiment':'mean'}).reset_index()\n",
    "sentiment_summary.sort_values(by='sentiment', inplace=True)\n",
    "\n",
    "# Plot sentiment summary\n",
    "cmap = matplotlib.colors.LinearSegmentedColormap.from_list([0,1], [\"yellow\",\"green\"])\n",
    "ax = sentiment_summary.plot.scatter(x='sentiment', y='bank', s=200, c='sentiment', \n",
    "                                  colormap=cmap, figsize=(10,5), alpha=0.5, edgecolor='black')\n",
    "ax.set_ylabel('')\n",
    "ax.set_title('Mean Sentiment Score by Banks', fontsize=25)\n",
    "plt.show()\n"
   ]
  },
  {
   "cell_type": "markdown",
   "metadata": {},
   "source": [
    "## Conclussions\n",
    "\n",
    "The sentiment analysis conducted in this project provides us with several valuable insights:\n",
    "\n",
    "- Based on the collected data, Bank of America has a mean sentiment score of 1, placing it as the bank with best market perception in New York. This comes with the caveat that Bank of America is at the bottom half in number of venues and number of tips provided by customers. In short the reported market perception for Bank of America is positve but very representative due to the low amount of data available for this bank\n",
    "\n",
    "\n",
    "- Chase Bank has the most venues and tips, making its sentiment score the most significant to report. Their sentiment score is at 0.23, a score slighly above neutral. \n",
    "\n",
    "\n",
    "- None of the evaluated banks report a negative market perception. However the results are not statistically significant due to the modest volume of data available.\n",
    "\n",
    "\n",
    "- This approach is a viable way to gain insights into the market perception of banks in any given location, given that sufficient data is collected.\n"
   ]
  }
 ],
 "metadata": {
  "kernelspec": {
   "display_name": "Python 3",
   "language": "python",
   "name": "python3"
  },
  "language_info": {
   "codemirror_mode": {
    "name": "ipython",
    "version": 3
   },
   "file_extension": ".py",
   "mimetype": "text/x-python",
   "name": "python",
   "nbconvert_exporter": "python",
   "pygments_lexer": "ipython3",
   "version": "3.7.7"
  }
 },
 "nbformat": 4,
 "nbformat_minor": 4
}
